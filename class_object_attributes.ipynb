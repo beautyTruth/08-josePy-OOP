{
 "cells": [
  {
   "cell_type": "code",
   "execution_count": 5,
   "id": "412e4d37",
   "metadata": {},
   "outputs": [],
   "source": [
    "class Fish():\n",
    "    \n",
    "    # CLASS OBJECT ATTRIBUTES are the same for every instance\n",
    "    genus = \"carchardon\"\n",
    "    \n",
    "    \n",
    "    \n",
    "    def __init__(self,breed,name):\n",
    "        \n",
    "        # attributes\n",
    "        # We take in the arguments\n",
    "        # we then assign it using the self.attribute_name\n",
    "        self.breed = breed\n",
    "        self.name = name\n",
    "        \n",
    "    # Methods --> these are operations or actions\n",
    "    def bleh(self,number):\n",
    "        print(\"bubble. . . my name is {} and my favorite number is {}\".format(self.name,number))"
   ]
  },
  {
   "cell_type": "code",
   "execution_count": 6,
   "id": "c8fd9967",
   "metadata": {},
   "outputs": [],
   "source": [
    "my_fish = Fish(breed='great white',name='Pookie')"
   ]
  },
  {
   "cell_type": "code",
   "execution_count": 7,
   "id": "3a22c29d",
   "metadata": {},
   "outputs": [],
   "source": [
    "my_other_fish = Fish(breed='hammerhead',name='Brandie')"
   ]
  },
  {
   "cell_type": "code",
   "execution_count": 8,
   "id": "17df5e97",
   "metadata": {},
   "outputs": [
    {
     "data": {
      "text/plain": [
       "__main__.Fish"
      ]
     },
     "execution_count": 8,
     "metadata": {},
     "output_type": "execute_result"
    }
   ],
   "source": [
    "type(my_fish)"
   ]
  },
  {
   "cell_type": "code",
   "execution_count": 9,
   "id": "4fbba257",
   "metadata": {},
   "outputs": [
    {
     "data": {
      "text/plain": [
       "'great white'"
      ]
     },
     "execution_count": 9,
     "metadata": {},
     "output_type": "execute_result"
    }
   ],
   "source": [
    "my_fish.breed\n"
   ]
  },
  {
   "cell_type": "code",
   "execution_count": 10,
   "id": "2ccfa710",
   "metadata": {},
   "outputs": [
    {
     "data": {
      "text/plain": [
       "'carchardon'"
      ]
     },
     "execution_count": 10,
     "metadata": {},
     "output_type": "execute_result"
    }
   ],
   "source": [
    "my_fish.genus"
   ]
  },
  {
   "cell_type": "code",
   "execution_count": 11,
   "id": "35ba8e18",
   "metadata": {},
   "outputs": [
    {
     "data": {
      "text/plain": [
       "'Pookie'"
      ]
     },
     "execution_count": 11,
     "metadata": {},
     "output_type": "execute_result"
    }
   ],
   "source": [
    "my_fish.name"
   ]
  },
  {
   "cell_type": "code",
   "execution_count": 12,
   "id": "524c7ba0",
   "metadata": {},
   "outputs": [
    {
     "data": {
      "text/plain": [
       "'carchardon'"
      ]
     },
     "execution_count": 12,
     "metadata": {},
     "output_type": "execute_result"
    }
   ],
   "source": [
    "my_fish.genus"
   ]
  },
  {
   "cell_type": "code",
   "execution_count": 13,
   "id": "037b677b",
   "metadata": {},
   "outputs": [
    {
     "data": {
      "text/plain": [
       "'hammerhead'"
      ]
     },
     "execution_count": 13,
     "metadata": {},
     "output_type": "execute_result"
    }
   ],
   "source": [
    "my_other_fish.breed"
   ]
  },
  {
   "cell_type": "code",
   "execution_count": 14,
   "id": "ff08d50c",
   "metadata": {},
   "outputs": [
    {
     "data": {
      "text/plain": [
       "'carchardon'"
      ]
     },
     "execution_count": 14,
     "metadata": {},
     "output_type": "execute_result"
    }
   ],
   "source": [
    "my_other_fish.genus"
   ]
  },
  {
   "cell_type": "code",
   "execution_count": 15,
   "id": "1e84b80e",
   "metadata": {},
   "outputs": [],
   "source": [
    "my_fish = Fish('Mako','Flower')"
   ]
  },
  {
   "cell_type": "code",
   "execution_count": 16,
   "id": "c1792041",
   "metadata": {},
   "outputs": [
    {
     "data": {
      "text/plain": [
       "'Flower'"
      ]
     },
     "execution_count": 16,
     "metadata": {},
     "output_type": "execute_result"
    }
   ],
   "source": [
    "my_fish.name"
   ]
  },
  {
   "cell_type": "code",
   "execution_count": 17,
   "id": "acaf5266",
   "metadata": {},
   "outputs": [
    {
     "name": "stdout",
     "output_type": "stream",
     "text": [
      "bubble. . . my name is Flower and my favorite number is 42\n"
     ]
    }
   ],
   "source": [
    "my_fish.bleh(42)"
   ]
  },
  {
   "cell_type": "markdown",
   "id": "a9ca0253",
   "metadata": {},
   "source": [
    "Let's make a whole new class  **To really drive the point home!**"
   ]
  },
  {
   "cell_type": "code",
   "execution_count": 18,
   "id": "a309f486",
   "metadata": {},
   "outputs": [],
   "source": [
    "class Circle():\n",
    "    \n",
    "    # Class Object Attribute\n",
    "    pi = 3.14159265359\n",
    "    \n",
    "    def __init__(self,radius=1):\n",
    "        \n",
    "        self.radius = radius\n",
    "        # some attributes don't need to be defined from a parameter call\n",
    "        # Class Object Attributes can be called using the name of the class as well as \"self\"\n",
    "        self.area = Circle.pi * radius * radius\n",
    "#        self.area = self.pi * radius * radius\n",
    "        \n",
    "    # METHOD\n",
    "    def get_circumference(self):\n",
    "#        return self.radius * self.pi * 2\n",
    "        return self.radius * Circle.pi * 2"
   ]
  },
  {
   "cell_type": "code",
   "execution_count": 19,
   "id": "ff246a74",
   "metadata": {},
   "outputs": [],
   "source": [
    "my_circle = Circle(42.777)"
   ]
  },
  {
   "cell_type": "code",
   "execution_count": 20,
   "id": "3fcfd558",
   "metadata": {},
   "outputs": [
    {
     "data": {
      "text/plain": [
       "3.14159265359"
      ]
     },
     "execution_count": 20,
     "metadata": {},
     "output_type": "execute_result"
    }
   ],
   "source": [
    "my_circle.pi"
   ]
  },
  {
   "cell_type": "code",
   "execution_count": 21,
   "id": "aed3eeb7",
   "metadata": {},
   "outputs": [
    {
     "data": {
      "text/plain": [
       "42.777"
      ]
     },
     "execution_count": 21,
     "metadata": {},
     "output_type": "execute_result"
    }
   ],
   "source": [
    "my_circle.radius"
   ]
  },
  {
   "cell_type": "code",
   "execution_count": 22,
   "id": "375cafe6",
   "metadata": {},
   "outputs": [
    {
     "data": {
      "text/plain": [
       "268.7758178852389"
      ]
     },
     "execution_count": 22,
     "metadata": {},
     "output_type": "execute_result"
    }
   ],
   "source": [
    "my_circle.get_circumference()"
   ]
  },
  {
   "cell_type": "code",
   "execution_count": 23,
   "id": "944949de",
   "metadata": {},
   "outputs": [
    {
     "data": {
      "text/plain": [
       "5748.711580838432"
      ]
     },
     "execution_count": 23,
     "metadata": {},
     "output_type": "execute_result"
    }
   ],
   "source": [
    "my_circle.area"
   ]
  },
  {
   "cell_type": "code",
   "execution_count": null,
   "id": "bfd9b6ad",
   "metadata": {},
   "outputs": [],
   "source": []
  }
 ],
 "metadata": {
  "kernelspec": {
   "display_name": "Python 3 (ipykernel)",
   "language": "python",
   "name": "python3"
  },
  "language_info": {
   "codemirror_mode": {
    "name": "ipython",
    "version": 3
   },
   "file_extension": ".py",
   "mimetype": "text/x-python",
   "name": "python",
   "nbconvert_exporter": "python",
   "pygments_lexer": "ipython3",
   "version": "3.11.3"
  }
 },
 "nbformat": 4,
 "nbformat_minor": 5
}
