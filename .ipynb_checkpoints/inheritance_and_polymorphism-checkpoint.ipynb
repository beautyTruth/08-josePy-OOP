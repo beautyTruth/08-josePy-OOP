{
 "cells": [
  {
   "cell_type": "code",
   "execution_count": 16,
   "id": "31e2eeae",
   "metadata": {},
   "outputs": [],
   "source": [
    "class Animal():\n",
    "    \n",
    "    def __init__(self):\n",
    "        print(\"animal crackers\")\n",
    "    \n",
    "    def what_am_i(self):\n",
    "        print(\"i am an animal\")\n",
    "        \n",
    "    def eat(self):\n",
    "        print(\"i am eating\")"
   ]
  },
  {
   "cell_type": "code",
   "execution_count": 17,
   "id": "83c8a8ab",
   "metadata": {},
   "outputs": [],
   "source": [
    "class Dog(Animal):\n",
    "    \n",
    "    def __init__(self):\n",
    "        Animal.__init__(self)\n",
    "        print(\"Puppy created\")\n",
    "        \n",
    "    def what_am_i(self):\n",
    "        print(\"I am handbanana\")\n",
    "        \n",
    "    def bark(self):\n",
    "        print(\"BARK BARK BARK!\")"
   ]
  },
  {
   "cell_type": "code",
   "execution_count": 18,
   "id": "3bc42f53",
   "metadata": {
    "scrolled": true
   },
   "outputs": [
    {
     "name": "stdout",
     "output_type": "stream",
     "text": [
      "animal crackers\n",
      "Puppy created\n"
     ]
    }
   ],
   "source": [
    "mydog = Dog()"
   ]
  },
  {
   "cell_type": "code",
   "execution_count": 19,
   "id": "6ec1e479",
   "metadata": {},
   "outputs": [
    {
     "name": "stdout",
     "output_type": "stream",
     "text": [
      "I am handbanana\n"
     ]
    }
   ],
   "source": [
    "mydog.what_am_i()"
   ]
  },
  {
   "cell_type": "code",
   "execution_count": 20,
   "id": "82cafa51",
   "metadata": {},
   "outputs": [
    {
     "name": "stdout",
     "output_type": "stream",
     "text": [
      "animal crackers\n"
     ]
    }
   ],
   "source": [
    "myanimal = Animal()"
   ]
  },
  {
   "cell_type": "code",
   "execution_count": 21,
   "id": "ecaf5d13",
   "metadata": {},
   "outputs": [
    {
     "name": "stdout",
     "output_type": "stream",
     "text": [
      "i am eating\n"
     ]
    }
   ],
   "source": [
    "myanimal.eat()"
   ]
  },
  {
   "cell_type": "code",
   "execution_count": 22,
   "id": "76610b17",
   "metadata": {},
   "outputs": [
    {
     "name": "stdout",
     "output_type": "stream",
     "text": [
      "i am an animal\n"
     ]
    }
   ],
   "source": [
    "myanimal.what_am_i()"
   ]
  },
  {
   "cell_type": "code",
   "execution_count": 23,
   "id": "24e10206",
   "metadata": {},
   "outputs": [
    {
     "name": "stdout",
     "output_type": "stream",
     "text": [
      "BARK BARK BARK!\n"
     ]
    }
   ],
   "source": [
    "mydog.bark()"
   ]
  },
  {
   "cell_type": "markdown",
   "id": "4c3c4d34",
   "metadata": {},
   "source": [
    "**LETS MAKE SOME NEW CLASSES** so we can discuss polymorphism"
   ]
  },
  {
   "cell_type": "code",
   "execution_count": 26,
   "id": "28f88859",
   "metadata": {},
   "outputs": [],
   "source": [
    "class Dolphin():\n",
    "    \n",
    "    def __init__(self,name):\n",
    "        self.name = name\n",
    "    \n",
    "    def speak(self):\n",
    "        return self.name + \" says ackaa, ackahhh ackaaa ackaaaa\""
   ]
  },
  {
   "cell_type": "code",
   "execution_count": 27,
   "id": "3ac7e245",
   "metadata": {},
   "outputs": [],
   "source": [
    "class Whale():\n",
    "    \n",
    "    def __init__(self,name):\n",
    "        self.name = name\n",
    "    \n",
    "    def speak(self):\n",
    "        return self.name + \" says wuuaaahhh, wuuuuaaaahhhh, tick tick tick\""
   ]
  },
  {
   "cell_type": "code",
   "execution_count": 28,
   "id": "9ce14672",
   "metadata": {},
   "outputs": [],
   "source": [
    "snowflake = Dolphin(\"snowflake\")\n",
    "blubber = Whale(\"blubber\")"
   ]
  },
  {
   "cell_type": "code",
   "execution_count": 29,
   "id": "3df695f9",
   "metadata": {},
   "outputs": [
    {
     "name": "stdout",
     "output_type": "stream",
     "text": [
      "snowflake says ackaa, ackahhh ackaaa ackaaaa\n"
     ]
    }
   ],
   "source": [
    "print(snowflake.speak())"
   ]
  },
  {
   "cell_type": "code",
   "execution_count": 30,
   "id": "338c0fa9",
   "metadata": {},
   "outputs": [
    {
     "name": "stdout",
     "output_type": "stream",
     "text": [
      "blubber says wuuaaahhh, wuuuuaaaahhhh, tick tick tick\n"
     ]
    }
   ],
   "source": [
    "print(blubber.speak())"
   ]
  },
  {
   "cell_type": "code",
   "execution_count": 31,
   "id": "ddcdece8",
   "metadata": {},
   "outputs": [
    {
     "name": "stdout",
     "output_type": "stream",
     "text": [
      "<class '__main__.Dolphin'>\n",
      "snowflake says ackaa, ackahhh ackaaa ackaaaa\n",
      "<class '__main__.Whale'>\n",
      "blubber says wuuaaahhh, wuuuuaaaahhhh, tick tick tick\n"
     ]
    }
   ],
   "source": [
    "for swimmer in [snowflake,blubber]:\n",
    "    \n",
    "    print(type(swimmer))\n",
    "    print(swimmer.speak())"
   ]
  },
  {
   "cell_type": "code",
   "execution_count": 32,
   "id": "ce74b892",
   "metadata": {},
   "outputs": [],
   "source": [
    "def mammal_speak(mammal):\n",
    "    print(mammal.speak())"
   ]
  },
  {
   "cell_type": "code",
   "execution_count": 33,
   "id": "cf0c13fc",
   "metadata": {},
   "outputs": [
    {
     "name": "stdout",
     "output_type": "stream",
     "text": [
      "snowflake says ackaa, ackahhh ackaaa ackaaaa\n"
     ]
    }
   ],
   "source": [
    "mammal_speak(snowflake)"
   ]
  },
  {
   "cell_type": "markdown",
   "id": "dd8cfbb1",
   "metadata": {},
   "source": [
    "**ABSTRACT CLASSES and INHERITANCE** -- classes that are never instantiated and are used only as a base class"
   ]
  },
  {
   "cell_type": "code",
   "execution_count": 34,
   "id": "e5a54d78",
   "metadata": {},
   "outputs": [],
   "source": [
    "class Food():\n",
    "    \n",
    "    def __init__(self,name):\n",
    "        self.name = name\n",
    "        \n",
    "    def speak(self):\n",
    "        raise NotImplementedError(\"Subclass must implement this abstract method\")"
   ]
  },
  {
   "cell_type": "code",
   "execution_count": 35,
   "id": "ae20e20d",
   "metadata": {},
   "outputs": [],
   "source": [
    "class Taco(Food):\n",
    "    \n",
    "    def speak(self):\n",
    "        return self.name + \": we speak through your farts\""
   ]
  },
  {
   "cell_type": "code",
   "execution_count": 36,
   "id": "e23bf642",
   "metadata": {},
   "outputs": [],
   "source": [
    "class Ramen(Food):\n",
    "    \n",
    "    def speak(self):\n",
    "        return self.name + \": we motivate you to act impulsively\""
   ]
  },
  {
   "cell_type": "code",
   "execution_count": 38,
   "id": "f78e172a",
   "metadata": {},
   "outputs": [],
   "source": [
    "picante = Taco(\"Kitten\")"
   ]
  },
  {
   "cell_type": "code",
   "execution_count": 39,
   "id": "89cc6203",
   "metadata": {},
   "outputs": [],
   "source": [
    "sriracha = Ramen(\"Yumyum\")"
   ]
  },
  {
   "cell_type": "code",
   "execution_count": 40,
   "id": "8c24c884",
   "metadata": {},
   "outputs": [
    {
     "name": "stdout",
     "output_type": "stream",
     "text": [
      "Kitten: we speak through your farts\n"
     ]
    }
   ],
   "source": [
    "print(picante.speak())"
   ]
  },
  {
   "cell_type": "code",
   "execution_count": 41,
   "id": "29ed5036",
   "metadata": {},
   "outputs": [
    {
     "name": "stdout",
     "output_type": "stream",
     "text": [
      "Yumyum: we motivate you to act impulsively\n"
     ]
    }
   ],
   "source": [
    "print(sriracha.speak())"
   ]
  },
  {
   "cell_type": "code",
   "execution_count": null,
   "id": "6ec3f35f",
   "metadata": {},
   "outputs": [],
   "source": []
  }
 ],
 "metadata": {
  "kernelspec": {
   "display_name": "Python 3 (ipykernel)",
   "language": "python",
   "name": "python3"
  },
  "language_info": {
   "codemirror_mode": {
    "name": "ipython",
    "version": 3
   },
   "file_extension": ".py",
   "mimetype": "text/x-python",
   "name": "python",
   "nbconvert_exporter": "python",
   "pygments_lexer": "ipython3",
   "version": "3.11.3"
  }
 },
 "nbformat": 4,
 "nbformat_minor": 5
}
