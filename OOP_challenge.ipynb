{
 "cells": [
  {
   "cell_type": "code",
   "execution_count": 10,
   "id": "aeb9a791",
   "metadata": {},
   "outputs": [],
   "source": [
    "class Account():\n",
    "    \n",
    "    def __init__(self,owner,balance=0):\n",
    "        \n",
    "        self.owner = owner\n",
    "        self.balance = balance\n",
    "        \n",
    "    def deposit(self,dep_amt):\n",
    "        \n",
    "        self.balance = self.balance + dep_amt\n",
    "        print(\"We have added {} to your account\".format(dep_amt))\n",
    "        \n",
    "    def withdraw(self,wd_amt):\n",
    "        \n",
    "        if self.balance >= wd_amt:\n",
    "            self.balance = self.balance - wd_amt\n",
    "            print(\"We have withdrawn {} from your account\".format(wd_amt))\n",
    "        \n",
    "        elif self.balance < wd_amt:\n",
    "            print(\"You don't have enough money for that. You are a terrible person\")\n",
    "        \n",
    "    def __str__(self):\n",
    "        return \"Playa: {} \\nBalance: {}\".format(self.owner,self.balance)\n",
    "    "
   ]
  },
  {
   "cell_type": "code",
   "execution_count": 11,
   "id": "8555b7e6",
   "metadata": {},
   "outputs": [],
   "source": [
    "new_acc = Account(\"Phil\",777777777)"
   ]
  },
  {
   "cell_type": "code",
   "execution_count": 12,
   "id": "d450b6f4",
   "metadata": {},
   "outputs": [
    {
     "data": {
      "text/plain": [
       "777777777"
      ]
     },
     "execution_count": 12,
     "metadata": {},
     "output_type": "execute_result"
    }
   ],
   "source": [
    "new_acc.balance"
   ]
  },
  {
   "cell_type": "code",
   "execution_count": 13,
   "id": "8fb5f215",
   "metadata": {},
   "outputs": [
    {
     "name": "stdout",
     "output_type": "stream",
     "text": [
      "We have added 9238434 to your account\n"
     ]
    }
   ],
   "source": [
    "new_acc.deposit(9238434)"
   ]
  },
  {
   "cell_type": "code",
   "execution_count": 14,
   "id": "47ee875a",
   "metadata": {},
   "outputs": [
    {
     "data": {
      "text/plain": [
       "787016211"
      ]
     },
     "execution_count": 14,
     "metadata": {},
     "output_type": "execute_result"
    }
   ],
   "source": [
    "new_acc.balance"
   ]
  },
  {
   "cell_type": "code",
   "execution_count": 15,
   "id": "ad438dcc",
   "metadata": {},
   "outputs": [
    {
     "name": "stdout",
     "output_type": "stream",
     "text": [
      "You don't have enough money for that. You are a terrible person\n"
     ]
    }
   ],
   "source": [
    "new_acc.withdraw(2038457028347)"
   ]
  },
  {
   "cell_type": "code",
   "execution_count": 16,
   "id": "411e1167",
   "metadata": {},
   "outputs": [
    {
     "name": "stdout",
     "output_type": "stream",
     "text": [
      "We have withdrawn 23423234 from your account\n"
     ]
    }
   ],
   "source": [
    "new_acc.withdraw(23423234)"
   ]
  },
  {
   "cell_type": "code",
   "execution_count": 17,
   "id": "754f82ea",
   "metadata": {},
   "outputs": [
    {
     "data": {
      "text/plain": [
       "763592977"
      ]
     },
     "execution_count": 17,
     "metadata": {},
     "output_type": "execute_result"
    }
   ],
   "source": [
    "new_acc.balance"
   ]
  },
  {
   "cell_type": "code",
   "execution_count": 18,
   "id": "ef8a289a",
   "metadata": {},
   "outputs": [
    {
     "data": {
      "text/plain": [
       "'Phil'"
      ]
     },
     "execution_count": 18,
     "metadata": {},
     "output_type": "execute_result"
    }
   ],
   "source": [
    "new_acc.owner"
   ]
  },
  {
   "cell_type": "code",
   "execution_count": 19,
   "id": "c7187848",
   "metadata": {},
   "outputs": [
    {
     "name": "stdout",
     "output_type": "stream",
     "text": [
      "Playa: Phil \n",
      "Balance: 763592977\n"
     ]
    }
   ],
   "source": [
    "print(new_acc)"
   ]
  },
  {
   "cell_type": "code",
   "execution_count": 20,
   "id": "e804e86f",
   "metadata": {},
   "outputs": [
    {
     "name": "stdout",
     "output_type": "stream",
     "text": [
      "We have withdrawn 763592000 from your account\n"
     ]
    }
   ],
   "source": [
    "new_acc.withdraw(763592000)"
   ]
  },
  {
   "cell_type": "code",
   "execution_count": 21,
   "id": "b082812e",
   "metadata": {},
   "outputs": [
    {
     "name": "stdout",
     "output_type": "stream",
     "text": [
      "Playa: Phil \n",
      "Balance: 977\n"
     ]
    }
   ],
   "source": [
    "print(new_acc)"
   ]
  },
  {
   "cell_type": "code",
   "execution_count": null,
   "id": "0449b0eb",
   "metadata": {},
   "outputs": [],
   "source": []
  }
 ],
 "metadata": {
  "kernelspec": {
   "display_name": "Python 3 (ipykernel)",
   "language": "python",
   "name": "python3"
  },
  "language_info": {
   "codemirror_mode": {
    "name": "ipython",
    "version": 3
   },
   "file_extension": ".py",
   "mimetype": "text/x-python",
   "name": "python",
   "nbconvert_exporter": "python",
   "pygments_lexer": "ipython3",
   "version": "3.11.3"
  }
 },
 "nbformat": 4,
 "nbformat_minor": 5
}
